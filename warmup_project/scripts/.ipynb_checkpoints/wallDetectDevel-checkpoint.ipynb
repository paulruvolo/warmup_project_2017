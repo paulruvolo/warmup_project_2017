{
 "cells": [
  {
   "cell_type": "code",
   "execution_count": 1,
   "metadata": {
    "collapsed": true
   },
   "outputs": [],
   "source": [
    "ranges = [0.0, 0.0, 0.0, 0.0, 0.0, 0.0, 0.0, 0.0, 0.0, 0.0, 0.0, 0.0, 0.0, 0.0, 0.0, 0.0, 0.0, 0.0, 0.0, 0.0, 0.0, 0.0, 0.0, 0.0, 0.0, 0.0, 0.0, 0.0, 0.0, 0.0, 0.0, 0.0, 0.0, 0.0, 0.0, 0.0, 0.0, 0.0, 0.0, 0.0, 0.0, 0.0, 0.0, 0.0, 1.0980000495910645, 1.1100000143051147, 1.1180000305175781, 1.13100004196167, 1.1579999923706055, 0.0, 0.0, 0.0, 0.0, 0.0, 0.0, 0.0, 0.0, 0.0, 0.0, 0.0, 0.0, 0.0, 0.0, 0.0, 0.0, 0.0, 0.0, 0.0, 0.0, 0.0, 0.0, 0.0, 0.0, 0.0, 0.0, 0.0, 0.0, 0.0, 0.0, 0.0, 0.0, 0.0, 0.0, 0.0, 0.0, 0.0, 0.0, 0.0, 0.0, 0.0, 0.0, 0.0, 0.0, 0.0, 0.0, 0.0, 0.0, 0.0, 0.0, 0.0, 0.0, 0.0, 0.0, 0.0, 0.0, 0.0, 0.0, 0.0, 0.0, 0.0, 0.0, 0.0, 0.0, 0.0, 0.0, 0.0, 0.0, 0.0, 0.0, 0.0, 0.0, 0.0, 0.0, 0.0, 0.0, 0.0, 0.0, 0.0, 0.0, 0.0, 0.0, 0.0, 0.0, 0.0, 0.0, 0.0, 0.0, 0.0, 0.0, 0.0, 0.0, 0.0, 0.0, 0.0, 0.0, 0.0, 0.0, 0.0, 0.0, 0.0, 0.0, 0.0, 0.0, 0.0, 0.0, 0.0, 0.0, 0.0, 0.0, 0.0, 0.0, 0.0, 0.0, 0.0, 0.0, 0.0, 0.0, 0.0, 0.0, 0.0, 0.0, 0.0, 0.0, 0.0, 0.0, 0.0, 0.0, 0.0, 0.0, 0.0, 0.0, 0.0, 0.0, 0.0, 0.0, 0.0, 0.0, 0.0, 0.0, 0.0, 0.0, 0.0, 0.0, 0.0, 0.0, 0.0, 0.0, 0.0, 0.0, 0.0, 0.0, 0.0, 0.0, 0.0, 0.0, 0.0, 0.0, 0.0, 0.0, 0.0, 0.0, 0.0, 0.0, 0.0, 0.0, 0.0, 0.0, 0.0, 0.0, 1.11899995803833, 1.100000023841858, 1.0759999752044678, 1.0549999475479126, 1.0399999618530273, 1.0199999809265137, 1.0019999742507935, 0.9860000014305115, 0.968999981880188, 0.9549999833106995, 0.9390000104904175, 0.9269999861717224, 0.9139999747276306, 0.9020000100135803, 0.8880000114440918, 0.8790000081062317, 0.8669999837875366, 0.8579999804496765, 0.847000002861023, 0.8370000123977661, 0.8289999961853027, 0.8209999799728394, 0.8119999766349792, 0.8040000200271606, 0.796999990940094, 0.7910000085830688, 0.7839999794960022, 0.777999997138977, 0.7720000147819519, 0.7639999985694885, 0.0, 0.0, 0.0, 0.0, 0.0, 0.0, 0.0, 0.0, 0.0, 0.0, 0.7260000109672546, 0.7200000286102295, 0.7160000205039978, 0.7139999866485596, 0.7120000123977661, 0.7120000123977661, 0.7089999914169312, 0.7080000042915344, 0.7070000171661377, 0.7059999704360962, 0.7059999704360962, 0.7049999833106995, 0.7049999833106995, 0.7049999833106995, 0.7049999833106995, 0.7059999704360962, 0.7059999704360962, 0.7070000171661377, 0.7089999914169312, 0.7099999785423279, 0.7110000252723694, 0.7129999995231628, 0.7160000205039978, 0.7200000286102295, 0.7250000238418579, 0.0, 0.0, 0.0, 0.0, 0.0, 0.0, 0.7379999756813049, 0.7459999918937683, 0.7519999742507935, 0.7570000290870667, 0.7630000114440918, 0.7689999938011169, 0.7739999890327454, 0.7799999713897705, 0.7879999876022339, 0.7950000166893005, 0.8029999732971191, 0.8109999895095825, 0.8180000185966492, 0.8259999752044678, 0.8370000123977661, 0.8479999899864197, 0.8569999933242798, 0.8669999837875366, 0.8790000081062317, 0.8899999856948853, 0.902999997138977, 0.9160000085830688, 0.9309999942779541, 0.9430000185966492, 0.9610000252723694, 0.9760000109672546, 0.9919999837875366, 1.0080000162124634, 1.031000018119812, 1.0499999523162842, 1.0679999589920044, 1.0950000286102295, 1.11899995803833, 1.1419999599456787, 0.0, 0.0, 0.0, 0.0, 0.0, 0.0, 0.0, 0.0, 0.0, 0.0, 0.0, 0.0, 0.0, 0.0, 0.0, 0.0, 0.0, 0.0, 0.0, 0.0, 0.0, 0.0, 0.0, 0.0, 0.0, 0.0, 0.0, 0.0, 0.0, 0.0, 0.0, 0.0, 0.0, 0.0, 0.0, 0.0, 0.0]"
   ]
  },
  {
   "cell_type": "code",
   "execution_count": 2,
   "metadata": {
    "collapsed": false
   },
   "outputs": [
    {
     "data": {
      "text/plain": [
       "361"
      ]
     },
     "execution_count": 2,
     "metadata": {},
     "output_type": "execute_result"
    }
   ],
   "source": [
    "len(ranges)"
   ]
  },
  {
   "cell_type": "code",
   "execution_count": 3,
   "metadata": {
    "collapsed": false
   },
   "outputs": [],
   "source": [
    "import numpy as np\n",
    "import matplotlib.pyplot as plt\n",
    "import random\n",
    "from scipy import stats"
   ]
  },
  {
   "cell_type": "code",
   "execution_count": 4,
   "metadata": {
    "collapsed": false
   },
   "outputs": [],
   "source": [
    "for ang, dist in enumerate(ranges):\n",
    "    if dist == 0.0:\n",
    "        continue\n",
    "    x = dist * np.cos(ang * np.pi / 180)\n",
    "    y = dist * np.sin(ang * np.pi / 180)\n",
    "    try:\n",
    "        pts = np.append(pts, [[x,y]], axis=0)\n",
    "    except:\n",
    "        pts = np.asarray([[x,y]])"
   ]
  },
  {
   "cell_type": "code",
   "execution_count": 5,
   "metadata": {
    "collapsed": false
   },
   "outputs": [
    {
     "data": {
      "image/png": "[encoded data removed]",
      "text/plain": [
       "<matplotlib.figure.Figure at 0x7f4ead1b5240>"
      ]
     },
     "metadata": {},
     "output_type": "display_data"
    }
   ],
   "source": [
    "plt.scatter(pts[:,0],pts[:,1])\n",
    "plt.show()"
   ]
  },
  {
   "cell_type": "code",
   "execution_count": 6,
   "metadata": {
    "collapsed": false
   },
   "outputs": [
    {
     "data": {
      "text/plain": [
       "[16, 32]"
      ]
     },
     "execution_count": 6,
     "metadata": {},
     "output_type": "execute_result"
    }
   ],
   "source": [
    "idxs = sorted(random.sample(range(pts.shape[0]), 2))\n",
    "idxs"
   ]
  },
  {
   "cell_type": "code",
   "execution_count": 7,
   "metadata": {
    "collapsed": false
   },
   "outputs": [
    {
     "name": "stdout",
     "output_type": "stream",
     "text": [
      "[-0.59586411 -0.71012319] [-0.31644111 -0.71073836]\n",
      "[-0.279423    0.00061518]\n"
     ]
    }
   ],
   "source": [
    "a = pts[idxs[0]]\n",
    "b = pts[idxs[1]]\n",
    "print(a, b)\n",
    "print(a - b)"
   ]
  },
  {
   "cell_type": "code",
   "execution_count": 8,
   "metadata": {
    "collapsed": false
   },
   "outputs": [],
   "source": [
    "errorPts = np.asarray([x[1] for x in enumerate(pts) if x[0] not in idxs])"
   ]
  },
  {
   "cell_type": "code",
   "execution_count": 9,
   "metadata": {
    "collapsed": true
   },
   "outputs": [
    {
     "name": "stdout",
     "output_type": "stream",
     "text": [
      "[[array([ 0.78983514,  0.76273493]), 2.178296395507636], [array([ 0.78488854,  0.78488854]), 2.2441476543827399], [array([ 0.77662808,  0.80422192]), 2.3023907666035597], [array([ 0.77134017,  0.82716107]), 2.3724949710624212], [array([ 0.77485324,  0.8605617 ]), 2.4765280263944462], [array([-0.8696263 , -0.70420949]), 2.8206419923041693e-05], [array([-0.84264891, -0.70706639]), 6.3175657545440717e-06], [array([-0.81206749, -0.7059195 ]), 1.389566318008406e-05], [array([-0.78401775, -0.70593275]), 1.4259588074689739e-05], [array([-0.76060782, -0.70927827]), 2.3253634105909757e-07], [array([-0.73372658, -0.70855152]), 1.6081883157102443e-06], [array([-0.70852098, -0.70852098]), 1.8338142036766699e-06], [array([-0.68493315, -0.70926904]), 4.3302818797772203e-07], [array([-0.6608564 , -0.70868172]), 1.6857774961561079e-06], [array([-0.63901972, -0.7097033 ]), 1.0554729986824869e-07], [array([-0.61603944, -0.7086723 ]), 1.9781387098076394e-06], [array([-0.57519882, -0.71031139]), 2.036445941685636e-08], [array([-0.55532666, -0.71078571]), 3.2863984703696958e-07], [array([-0.53441175, -0.70918834]), 1.14519213332714e-06], [array([-0.51666324, -0.71112594]), 6.8622417970472901e-07], [array([-0.49729076, -0.71020481]), 1.8332335021087202e-08], [array([-0.4797875 , -0.71131422]), 8.7511787237586412e-07], [array([-0.46130926, -0.71035397]), 4.2836166045276011e-09], [array([-0.44354243, -0.70981627]), 4.125103740603725e-07], [array([-0.42696656, -0.71059169]), 9.3426202433162965e-09], [array([-0.41049999, -0.71100684]), 2.2615141718915448e-07], [array([-0.3936654 , -0.71019118]), 1.422530005703414e-07], [array([-0.37745515, -0.70988988]), 5.1001219423112286e-07], [array([-0.36183042, -0.71013219]), 2.5628073191178578e-07], [array([-0.34675158, -0.7109461 ]), 7.5331319578406447e-08], [array([-0.33133271, -0.71054529]), 2.5693323060268533e-08], [array([-0.30164444, -0.71062976]), 1.9931464547908328e-08], [array([-0.28619944, -0.70836846]), 5.9364044045888623e-06], [array([-0.13852733, -0.71266135]), 2.3448349140355366e-06], [array([-0.12502669, -0.70906161]), 4.4022935162059475e-06], [array([-0.11200708, -0.70718487]), 1.6028507055895592e-05], [array([-0.09936959, -0.70705139]), 1.7346127515197772e-05], [array([-0.08677097, -0.70669287]), 2.0712692396651286e-05], [array([-0.07442427, -0.7080996 ]), 1.005889491982569e-05], [array([-0.06179342, -0.70630203]), 2.4969499982835167e-05], [array([-0.04938758, -0.70627535]), 2.5512015611535108e-05], [array([-0.03700152, -0.7060311 ]), 2.8328624001325909e-05], [array([-0.02463904, -0.70556989]), 3.3766371899473384e-05], [array([-0.0123214 , -0.70589244]), 3.0420234622490893e-05], [array([ -1.29506396e-16,  -7.04999983e-01]), 4.1409720865471451e-05], [array([ 0.01230395, -0.70489261]), 4.3158348336667219e-05], [array([ 0.02460414, -0.70457052]), 4.786803012714251e-05], [array([ 0.03689685, -0.70403381]), 5.5986994360236392e-05], [array([ 0.04924807, -0.70428019]), 5.2754858113017767e-05], [array([ 0.06153195, -0.70331343]), 6.8179010693124607e-05], [array([ 0.07390163, -0.703127  ]), 7.1753114040705091e-05], [array([ 0.08640536, -0.70371521]), 6.2568646903666202e-05], [array([ 0.0988129 , -0.70309031]), 7.3312206384391313e-05], [array([ 0.11122491, -0.70224644]), 8.8990002379991237e-05], [array([ 0.12381115, -0.70216793]), 9.1005274033851722e-05], [array([ 0.13661924, -0.70284508]), 7.9044762686984163e-05], [array([ 0.14969642, -0.7042663 ]), 5.6224339413612256e-05], [array([ 0.16308952, -0.70641832]), 2.8898802904490689e-05], [array([ 0.25241086, -0.69349313]), 0.0003421599803647214], [array([ 0.26734249, -0.69645099]), 0.00024250549707182845], [array([ 0.28170415, -0.69724223]), 0.00021942390811412394], [array([ 0.29578348, -0.6968222 ]), 0.00023298951111638382], [array([ 0.31034006, -0.69703519]), 0.00022749834427263684], [array([ 0.32499344, -0.69695068]), 0.00023103455024478829], [array([ 0.33929926, -0.69566658]), 0.00027275889138037371], [array([ 0.35411258, -0.69498506]), 0.00029685716879835922], [array([ 0.36994359, -0.69576269]), 0.00027181358004565618], [array([ 0.38542366, -0.69532268]), 0.00028767076999681811], [array([ 0.40149999, -0.69541838]), 0.00028562890323076683], [array([ 0.41769587, -0.69516267]), 0.00029556209650525976], [array([ 0.43347397, -0.69370336]), 0.00034916533500621604], [array([ 0.44987183, -0.69274187]), 0.00038744235041230111], [array([ 0.46804447, -0.69390446]), 0.00034450985208232349], [array([ 0.48639281, -0.69464093]), 0.00031915490176246921], [array([ 0.50373196, -0.69332756]), 0.00036927172008275553], [array([ 0.52177362, -0.69241697]), 0.00040669766731933366], [array([ 0.54116644, -0.69266146]), 0.00039859953179079068], [array([ 0.56009514, -0.69165989]), 0.00044134415429253733], [array([ 0.58043721, -0.69173813]), 0.00043993981011931303], [array([ 0.60095008, -0.69131398]), 0.00045984727994085776], [array([ 0.62296059, -0.69186783]), 0.00043842761102890301], [array([ 0.64312447, -0.68966655]), 0.00053751289222307502], [array([ 0.66756671, -0.69128557]), 0.00046738668811586949], [array([ 0.69013623, -0.69013623]), 0.00052066814665880452], [array([ 0.71358507, -0.68910109]), 0.00057144472124568573], [array([ 0.73720454, -0.68745436]), 0.00065554640814877694], [array([ 0.76618233, -0.68987367]), 0.00054047574354193083], [array([ 0.79244502, -0.68886195]), 0.00059134904738183231], [array([ 0.81813543, -0.68649714]), 0.00071497581819484062], [array([ 0.85097485, -0.68910585]), 0.0005857673685683365], [array([ 0.881784  , -0.68892517]), 0.00059785830326343134], [array([ 0.91204172, -0.68727273]), 0.0006848785742572587]]\n"
     ]
    }
   ],
   "source": [
    "errors = []\n",
    "\n",
    "for c in errorPts:\n",
    "    ab = b-a\n",
    "    ac = c-a\n",
    "    ang = np.arccos(np.dot(ab, ac) / (np.linalg.norm(ab) * np.linalg.norm(ac)))\n",
    "    dist = np.linalg.norm(ac) * np.sin(ang)\n",
    "    errors.append([c, dist**2])\n",
    "\n",
    "print(errors)"
   ]
  },
  {
   "cell_type": "code",
   "execution_count": 10,
   "metadata": {
    "collapsed": false
   },
   "outputs": [
    {
     "name": "stdout",
     "output_type": "stream",
     "text": [
      "[-0.8696263  -0.70420949] [ 0.91204172 -0.68727273]\n",
      "87\n"
     ]
    }
   ],
   "source": [
    "wallPts = [pt[0] for pt in errors if pt[1] < .1]\n",
    "print(wallPts[0], wallPts[-1])\n",
    "print(len(wallPts))"
   ]
  },
  {
   "cell_type": "code",
   "execution_count": 11,
   "metadata": {
    "collapsed": false
   },
   "outputs": [
    {
     "name": "stdout",
     "output_type": "stream",
     "text": [
      "0.82263357334\n"
     ]
    }
   ],
   "source": [
    "rSquared = (stats.linregress(np.transpose(np.asarray(wallPts))).rvalue)**2\n",
    "print(rSquared)"
   ]
  },
  {
   "cell_type": "code",
   "execution_count": 23,
   "metadata": {
    "collapsed": false
   },
   "outputs": [
    {
     "data": {
      "image/png": "[encoded data removed]",
      "text/plain": [
       "<matplotlib.figure.Figure at 0x7f4e790a1d68>"
      ]
     },
     "metadata": {},
     "output_type": "display_data"
    }
   ],
   "source": [
    "plt.scatter(pts[:,0],pts[:,1],color='blue')\n",
    "xy = np.transpose(np.asarray([list(a), list(b)]))\n",
    "plt.scatter(xy[0], xy[1],color='red')\n",
    "endPts = np.transpose(np.concatenate((wallPts[0], wallPts[-1])).reshape((2,2)))\n",
    "plt.scatter(endPts[0], endPts[1], color='yellow')\n",
    "plt.show()"
   ]
  },
  {
   "cell_type": "code",
   "execution_count": 28,
   "metadata": {
    "collapsed": false
   },
   "outputs": [
    {
     "data": {
      "text/plain": [
       "[0,\n",
       " 1,\n",
       " 2,\n",
       " 3,\n",
       " 4,\n",
       " 5,\n",
       " 6,\n",
       " 7,\n",
       " 8,\n",
       " 9,\n",
       " 10,\n",
       " 11,\n",
       " 12,\n",
       " 13,\n",
       " 14,\n",
       " 15,\n",
       " 16,\n",
       " 17,\n",
       " 18,\n",
       " 19,\n",
       " 20,\n",
       " 21,\n",
       " 22,\n",
       " 23,\n",
       " 24,\n",
       " 25,\n",
       " 26,\n",
       " 27,\n",
       " 28,\n",
       " 29,\n",
       " 30,\n",
       " 31,\n",
       " 32,\n",
       " 33,\n",
       " 34,\n",
       " 35,\n",
       " 36,\n",
       " 37,\n",
       " 38,\n",
       " 39,\n",
       " 40,\n",
       " 41,\n",
       " 42,\n",
       " 43,\n",
       " 44,\n",
       " 45,\n",
       " 46,\n",
       " 47,\n",
       " 48,\n",
       " 49,\n",
       " 50,\n",
       " 51,\n",
       " 52,\n",
       " 53,\n",
       " 54,\n",
       " 55,\n",
       " 56,\n",
       " 57,\n",
       " 58,\n",
       " 59,\n",
       " 60,\n",
       " 61,\n",
       " 62,\n",
       " 63,\n",
       " 64,\n",
       " 65,\n",
       " 66,\n",
       " 67,\n",
       " 68,\n",
       " 69,\n",
       " 70,\n",
       " 71,\n",
       " 72,\n",
       " 73,\n",
       " 74,\n",
       " 75,\n",
       " 76,\n",
       " 77,\n",
       " 78,\n",
       " 79,\n",
       " 80,\n",
       " 81,\n",
       " 82,\n",
       " 83,\n",
       " 84,\n",
       " 85,\n",
       " 86,\n",
       " 87,\n",
       " 88,\n",
       " 89,\n",
       " 90,\n",
       " 91,\n",
       " 92,\n",
       " 93,\n",
       " 94,\n",
       " 95,\n",
       " 96,\n",
       " 97,\n",
       " 98,\n",
       " 99,\n",
       " 100,\n",
       " 101,\n",
       " 102,\n",
       " 103,\n",
       " 104,\n",
       " 105,\n",
       " 106,\n",
       " 107,\n",
       " 108,\n",
       " 109,\n",
       " 110,\n",
       " 111,\n",
       " 112,\n",
       " 113,\n",
       " 114,\n",
       " 115,\n",
       " 116,\n",
       " 117,\n",
       " 118,\n",
       " 119,\n",
       " 120,\n",
       " 121,\n",
       " 122,\n",
       " 123,\n",
       " 124,\n",
       " 125,\n",
       " 126,\n",
       " 127,\n",
       " 128,\n",
       " 129,\n",
       " 130,\n",
       " 131,\n",
       " 132,\n",
       " 133,\n",
       " 134,\n",
       " 135,\n",
       " 136,\n",
       " 137,\n",
       " 138,\n",
       " 139,\n",
       " 140,\n",
       " 141,\n",
       " 142,\n",
       " 143,\n",
       " 144,\n",
       " 145,\n",
       " 146,\n",
       " 147,\n",
       " 148,\n",
       " 149,\n",
       " 150,\n",
       " 151,\n",
       " 152,\n",
       " 153,\n",
       " 154,\n",
       " 155,\n",
       " 156,\n",
       " 157,\n",
       " 158,\n",
       " 159,\n",
       " 160,\n",
       " 161,\n",
       " 162,\n",
       " 163,\n",
       " 164,\n",
       " 165,\n",
       " 166,\n",
       " 167,\n",
       " 168,\n",
       " 169,\n",
       " 170,\n",
       " 171,\n",
       " 172,\n",
       " 173,\n",
       " 174,\n",
       " 175,\n",
       " 176,\n",
       " 177,\n",
       " 178,\n",
       " 179,\n",
       " 180,\n",
       " 181,\n",
       " 182,\n",
       " 183,\n",
       " 184,\n",
       " 185,\n",
       " 186,\n",
       " 187,\n",
       " 188,\n",
       " 189,\n",
       " 190,\n",
       " 191,\n",
       " 192,\n",
       " 193,\n",
       " 194,\n",
       " 195,\n",
       " 196,\n",
       " 197,\n",
       " 198,\n",
       " 199,\n",
       " 200,\n",
       " 201,\n",
       " 202,\n",
       " 203,\n",
       " 204,\n",
       " 205,\n",
       " 206,\n",
       " 207,\n",
       " 208,\n",
       " 209,\n",
       " 210,\n",
       " 211,\n",
       " 212,\n",
       " 213,\n",
       " 214,\n",
       " 215,\n",
       " 216,\n",
       " 217,\n",
       " 218,\n",
       " 219,\n",
       " 220,\n",
       " 221,\n",
       " 222,\n",
       " 223,\n",
       " 224,\n",
       " 225,\n",
       " 226,\n",
       " 227,\n",
       " 228,\n",
       " 229,\n",
       " 230,\n",
       " 231,\n",
       " 232,\n",
       " 233,\n",
       " 234,\n",
       " 235,\n",
       " 236,\n",
       " 237,\n",
       " 238,\n",
       " 239,\n",
       " 240,\n",
       " 241,\n",
       " 242,\n",
       " 243,\n",
       " 244,\n",
       " 245,\n",
       " 246,\n",
       " 247,\n",
       " 248,\n",
       " 249,\n",
       " 250,\n",
       " 251,\n",
       " 252,\n",
       " 253,\n",
       " 254,\n",
       " 255,\n",
       " 256,\n",
       " 257,\n",
       " 258,\n",
       " 259,\n",
       " 260,\n",
       " 261,\n",
       " 262,\n",
       " 263,\n",
       " 264,\n",
       " 265,\n",
       " 266,\n",
       " 267,\n",
       " 268,\n",
       " 269,\n",
       " 270,\n",
       " 271,\n",
       " 272,\n",
       " 273,\n",
       " 274,\n",
       " 275,\n",
       " 276,\n",
       " 277,\n",
       " 278,\n",
       " 279,\n",
       " 280,\n",
       " 281,\n",
       " 282,\n",
       " 283,\n",
       " 284,\n",
       " 285,\n",
       " 286,\n",
       " 287,\n",
       " 288,\n",
       " 289,\n",
       " 290,\n",
       " 291,\n",
       " 292,\n",
       " 293,\n",
       " 294,\n",
       " 295,\n",
       " 296,\n",
       " 297,\n",
       " 298,\n",
       " 299,\n",
       " 300,\n",
       " 301,\n",
       " 302,\n",
       " 303,\n",
       " 304,\n",
       " 305,\n",
       " 306,\n",
       " 307,\n",
       " 308,\n",
       " 309,\n",
       " 310,\n",
       " 311,\n",
       " 312,\n",
       " 313,\n",
       " 314,\n",
       " 315,\n",
       " 316,\n",
       " 317,\n",
       " 318,\n",
       " 319,\n",
       " 320,\n",
       " 321,\n",
       " 322,\n",
       " 323,\n",
       " 324,\n",
       " 325,\n",
       " 326,\n",
       " 327,\n",
       " 328,\n",
       " 329,\n",
       " 330,\n",
       " 331,\n",
       " 332,\n",
       " 333,\n",
       " 334,\n",
       " 335,\n",
       " 336,\n",
       " 337,\n",
       " 338,\n",
       " 339,\n",
       " 340,\n",
       " 341,\n",
       " 342,\n",
       " 343,\n",
       " 344,\n",
       " 345,\n",
       " 346,\n",
       " 347,\n",
       " 348,\n",
       " 349,\n",
       " 350,\n",
       " 351,\n",
       " 352,\n",
       " 353,\n",
       " 354,\n",
       " 355,\n",
       " 356,\n",
       " 357,\n",
       " 358,\n",
       " 359]"
      ]
     },
     "execution_count": 28,
     "metadata": {},
     "output_type": "execute_result"
    }
   ],
   "source": [
    "list(range(500))[0:360]"
   ]
  },
  {
   "cell_type": "code",
   "execution_count": null,
   "metadata": {
    "collapsed": true
   },
   "outputs": [],
   "source": []
  }
 ],
 "metadata": {
  "kernelspec": {
   "display_name": "Python 3",
   "language": "python",
   "name": "python3"
  },
  "language_info": {
   "codemirror_mode": {
    "name": "ipython",
    "version": 3
   },
   "file_extension": ".py",
   "mimetype": "text/x-python",
   "name": "python",
   "nbconvert_exporter": "python",
   "pygments_lexer": "ipython3",
   "version": "3.5.2"
  }
 },
 "nbformat": 4,
 "nbformat_minor": 1
}
